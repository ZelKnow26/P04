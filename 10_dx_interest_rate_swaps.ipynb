{
 "cells": [
  {
   "cell_type": "markdown",
   "metadata": {},
   "source": [
    "<img src=\"http://hilpisch.com/tpq_logo.png\" alt=\"The Python Quants\" width=\"45%\" align=\"right\" border=\"4\">"
   ]
  },
  {
   "cell_type": "markdown",
   "metadata": {},
   "source": [
    "# Interest Rate Swaps"
   ]
  },
  {
   "cell_type": "markdown",
   "metadata": {},
   "source": [
    "*Very nascent*."
   ]
  },
  {
   "cell_type": "markdown",
   "metadata": {},
   "source": [
    "Interest rate swaps are a first step towards including **rate-sensitive instruments** in the modeling and valuation spectrum of DX Analytics. The model used in the following is the **square-root diffusion process** by Cox-Ingersoll-Ross (1985). Data used are UK/London OIS and Libor rates."
   ]
  },
  {
   "cell_type": "code",
   "execution_count": 10,
   "metadata": {},
   "outputs": [],
   "source": [
    "import dx\n",
    "import time\n",
    "import numpy as np\n",
    "import pandas as pd\n",
    "import datetime as dt\n",
    "from pylab import plt\n",
    "plt.style.use('seaborn')\n",
    "%matplotlib inline"
   ]
  },
  {
   "cell_type": "markdown",
   "metadata": {},
   "source": [
    "## OIS Data & Discounting"
   ]
  },
  {
   "cell_type": "markdown",
   "metadata": {},
   "source": [
    "We start by importing **OIS term structure data** (source: http://www.bankofengland.co.uk) for risk-free discounting. We also adjust the data structure somewhat for our purposes."
   ]
  },
  {
   "cell_type": "code",
   "execution_count": 11,
   "metadata": {},
   "outputs": [
    {
     "data": {
      "text/html": [
       "<div>\n",
       "<style scoped>\n",
       "    .dataframe tbody tr th:only-of-type {\n",
       "        vertical-align: middle;\n",
       "    }\n",
       "\n",
       "    .dataframe tbody tr th {\n",
       "        vertical-align: top;\n",
       "    }\n",
       "\n",
       "    .dataframe thead th {\n",
       "        text-align: right;\n",
       "    }\n",
       "</style>\n",
       "<table border=\"1\" class=\"dataframe\">\n",
       "  <thead>\n",
       "    <tr style=\"text-align: right;\">\n",
       "      <th>Date</th>\n",
       "      <th>20110328</th>\n",
       "      <th>20110329</th>\n",
       "      <th>20110330</th>\n",
       "      <th>20110331</th>\n",
       "      <th>20110401</th>\n",
       "      <th>20110404</th>\n",
       "      <th>20110405</th>\n",
       "      <th>20110406</th>\n",
       "      <th>20110407</th>\n",
       "      <th>20110408</th>\n",
       "      <th>...</th>\n",
       "      <th>20140314</th>\n",
       "      <th>20140317</th>\n",
       "      <th>20140318</th>\n",
       "      <th>20140319</th>\n",
       "      <th>20140320</th>\n",
       "      <th>20140321</th>\n",
       "      <th>20140324</th>\n",
       "      <th>20140325</th>\n",
       "      <th>20140326</th>\n",
       "      <th>20140327</th>\n",
       "    </tr>\n",
       "  </thead>\n",
       "  <tbody>\n",
       "    <tr>\n",
       "      <th>1D</th>\n",
       "      <td>0.116631</td>\n",
       "      <td>0.099386</td>\n",
       "      <td>0.110544</td>\n",
       "      <td>0.155185</td>\n",
       "      <td>0.113587</td>\n",
       "      <td>0.031433</td>\n",
       "      <td>0.020279</td>\n",
       "      <td>0.082142</td>\n",
       "      <td>0.084170</td>\n",
       "      <td>0.064899</td>\n",
       "      <td>...</td>\n",
       "      <td>0.075042</td>\n",
       "      <td>0.098371</td>\n",
       "      <td>0.091271</td>\n",
       "      <td>0.067942</td>\n",
       "      <td>0.075042</td>\n",
       "      <td>0.068956</td>\n",
       "      <td>0.070985</td>\n",
       "      <td>0.070985</td>\n",
       "      <td>0.060843</td>\n",
       "      <td>0.061857</td>\n",
       "    </tr>\n",
       "    <tr>\n",
       "      <th>7D</th>\n",
       "      <td>0.192728</td>\n",
       "      <td>0.192728</td>\n",
       "      <td>0.192728</td>\n",
       "      <td>0.202877</td>\n",
       "      <td>0.192728</td>\n",
       "      <td>0.152139</td>\n",
       "      <td>0.152139</td>\n",
       "      <td>0.152139</td>\n",
       "      <td>0.152139</td>\n",
       "      <td>0.141993</td>\n",
       "      <td>...</td>\n",
       "      <td>0.101414</td>\n",
       "      <td>0.101414</td>\n",
       "      <td>0.101414</td>\n",
       "      <td>0.081127</td>\n",
       "      <td>0.081127</td>\n",
       "      <td>0.081127</td>\n",
       "      <td>0.091270</td>\n",
       "      <td>0.091270</td>\n",
       "      <td>0.091270</td>\n",
       "      <td>0.091270</td>\n",
       "    </tr>\n",
       "    <tr>\n",
       "      <th>14D</th>\n",
       "      <td>0.213021</td>\n",
       "      <td>0.213021</td>\n",
       "      <td>0.213021</td>\n",
       "      <td>0.213021</td>\n",
       "      <td>0.213021</td>\n",
       "      <td>0.182577</td>\n",
       "      <td>0.172430</td>\n",
       "      <td>0.152137</td>\n",
       "      <td>0.152137</td>\n",
       "      <td>0.150614</td>\n",
       "      <td>...</td>\n",
       "      <td>0.101413</td>\n",
       "      <td>0.101413</td>\n",
       "      <td>0.101413</td>\n",
       "      <td>0.101413</td>\n",
       "      <td>0.101413</td>\n",
       "      <td>0.101413</td>\n",
       "      <td>0.101413</td>\n",
       "      <td>0.101413</td>\n",
       "      <td>0.101413</td>\n",
       "      <td>0.101413</td>\n",
       "    </tr>\n",
       "    <tr>\n",
       "      <th>1M</th>\n",
       "      <td>0.047608</td>\n",
       "      <td>0.069371</td>\n",
       "      <td>0.037302</td>\n",
       "      <td>0.067656</td>\n",
       "      <td>0.041858</td>\n",
       "      <td>0.017887</td>\n",
       "      <td>0.036548</td>\n",
       "      <td>0.034491</td>\n",
       "      <td>0.028678</td>\n",
       "      <td>0.028236</td>\n",
       "      <td>...</td>\n",
       "      <td>0.055359</td>\n",
       "      <td>0.052272</td>\n",
       "      <td>0.053673</td>\n",
       "      <td>0.067715</td>\n",
       "      <td>0.061275</td>\n",
       "      <td>0.052893</td>\n",
       "      <td>0.046209</td>\n",
       "      <td>0.050556</td>\n",
       "      <td>0.046448</td>\n",
       "      <td>0.021751</td>\n",
       "    </tr>\n",
       "  </tbody>\n",
       "</table>\n",
       "<p>4 rows × 784 columns</p>\n",
       "</div>"
      ],
      "text/plain": [
       "Date  20110328  20110329  20110330  20110331  20110401  20110404  20110405  \\\n",
       "1D    0.116631  0.099386  0.110544  0.155185  0.113587  0.031433  0.020279   \n",
       "7D    0.192728  0.192728  0.192728  0.202877  0.192728  0.152139  0.152139   \n",
       "14D   0.213021  0.213021  0.213021  0.213021  0.213021  0.182577  0.172430   \n",
       "1M    0.047608  0.069371  0.037302  0.067656  0.041858  0.017887  0.036548   \n",
       "\n",
       "Date  20110406  20110407  20110408  ...  20140314  20140317  20140318  \\\n",
       "1D    0.082142  0.084170  0.064899  ...  0.075042  0.098371  0.091271   \n",
       "7D    0.152139  0.152139  0.141993  ...  0.101414  0.101414  0.101414   \n",
       "14D   0.152137  0.152137  0.150614  ...  0.101413  0.101413  0.101413   \n",
       "1M    0.034491  0.028678  0.028236  ...  0.055359  0.052272  0.053673   \n",
       "\n",
       "Date  20140319  20140320  20140321  20140324  20140325  20140326  20140327  \n",
       "1D    0.067942  0.075042  0.068956  0.070985  0.070985  0.060843  0.061857  \n",
       "7D    0.081127  0.081127  0.081127  0.091270  0.091270  0.091270  0.091270  \n",
       "14D   0.101413  0.101413  0.101413  0.101413  0.101413  0.101413  0.101413  \n",
       "1M    0.067715  0.061275  0.052893  0.046209  0.050556  0.046448  0.021751  \n",
       "\n",
       "[4 rows x 784 columns]"
      ]
     },
     "execution_count": 11,
     "metadata": {},
     "output_type": "execute_result"
    }
   ],
   "source": [
    "# UK OIS Spot Rates Yield Curve\n",
    "oiss = pd.read_excel('Data.xls', 'Sheet1',index_col=0)\n",
    "\n",
    "# use years as index\n",
    "oiss = oiss.T\n",
    "# del oiss['years']\n",
    "oiss.head(4)"
   ]
  },
  {
   "cell_type": "code",
   "execution_count": 12,
   "metadata": {},
   "outputs": [],
   "source": [
    "# only date information for columns, no time\n",
    "oiss.columns = [dt.date(year=int(str(d)[0:4]),month=int(str(d)[4:6]),day=int(str(d)[6:8])) for d in oiss.columns]\n",
    "startdate = dt.date(year=2013,month=6,day=12)\n",
    "rows_front = [startdate + dt.timedelta(days=int(d[:-1])) for d in oiss.index if d[-1]=='D']\n",
    "rows_end = [startdate + dt.timedelta(days=int(int(d[:-1])*30.42)) for d in oiss.index if d[-1]=='M']\n",
    "rows_end = [d.replace(day=12) for d in rows_end]\n",
    "rows_front.extend(rows_end)\n",
    "oiss.index = rows_front"
   ]
  },
  {
   "cell_type": "code",
   "execution_count": 13,
   "metadata": {},
   "outputs": [
    {
     "data": {
      "text/html": [
       "<div>\n",
       "<style scoped>\n",
       "    .dataframe tbody tr th:only-of-type {\n",
       "        vertical-align: middle;\n",
       "    }\n",
       "\n",
       "    .dataframe tbody tr th {\n",
       "        vertical-align: top;\n",
       "    }\n",
       "\n",
       "    .dataframe thead th {\n",
       "        text-align: right;\n",
       "    }\n",
       "</style>\n",
       "<table border=\"1\" class=\"dataframe\">\n",
       "  <thead>\n",
       "    <tr style=\"text-align: right;\">\n",
       "      <th></th>\n",
       "      <th>2011-03-28</th>\n",
       "      <th>2011-03-29</th>\n",
       "      <th>2011-03-30</th>\n",
       "      <th>2011-03-31</th>\n",
       "      <th>2011-04-01</th>\n",
       "      <th>2011-04-04</th>\n",
       "      <th>2011-04-05</th>\n",
       "      <th>2011-04-06</th>\n",
       "      <th>2011-04-07</th>\n",
       "      <th>2011-04-08</th>\n",
       "      <th>...</th>\n",
       "      <th>2014-03-14</th>\n",
       "      <th>2014-03-17</th>\n",
       "      <th>2014-03-18</th>\n",
       "      <th>2014-03-19</th>\n",
       "      <th>2014-03-20</th>\n",
       "      <th>2014-03-21</th>\n",
       "      <th>2014-03-24</th>\n",
       "      <th>2014-03-25</th>\n",
       "      <th>2014-03-26</th>\n",
       "      <th>2014-03-27</th>\n",
       "    </tr>\n",
       "  </thead>\n",
       "  <tbody>\n",
       "    <tr>\n",
       "      <th>2022-06-12</th>\n",
       "      <td>3.443817</td>\n",
       "      <td>3.494568</td>\n",
       "      <td>3.449966</td>\n",
       "      <td>3.478114</td>\n",
       "      <td>3.457128</td>\n",
       "      <td>3.434650</td>\n",
       "      <td>3.497334</td>\n",
       "      <td>3.560921</td>\n",
       "      <td>3.557812</td>\n",
       "      <td>3.588443</td>\n",
       "      <td>...</td>\n",
       "      <td>2.621606</td>\n",
       "      <td>2.664075</td>\n",
       "      <td>2.642630</td>\n",
       "      <td>2.748921</td>\n",
       "      <td>2.749545</td>\n",
       "      <td>2.723628</td>\n",
       "      <td>2.712922</td>\n",
       "      <td>2.732028</td>\n",
       "      <td>2.674293</td>\n",
       "      <td>2.664159</td>\n",
       "    </tr>\n",
       "    <tr>\n",
       "      <th>2023-06-12</th>\n",
       "      <td>3.620892</td>\n",
       "      <td>3.670063</td>\n",
       "      <td>3.627662</td>\n",
       "      <td>3.647803</td>\n",
       "      <td>3.628087</td>\n",
       "      <td>3.610791</td>\n",
       "      <td>3.670840</td>\n",
       "      <td>3.736715</td>\n",
       "      <td>3.740334</td>\n",
       "      <td>3.773317</td>\n",
       "      <td>...</td>\n",
       "      <td>2.771728</td>\n",
       "      <td>2.814819</td>\n",
       "      <td>2.793481</td>\n",
       "      <td>2.888790</td>\n",
       "      <td>2.889516</td>\n",
       "      <td>2.857203</td>\n",
       "      <td>2.839629</td>\n",
       "      <td>2.862171</td>\n",
       "      <td>2.803561</td>\n",
       "      <td>2.788794</td>\n",
       "    </tr>\n",
       "    <tr>\n",
       "      <th>2028-06-12</th>\n",
       "      <td>4.278242</td>\n",
       "      <td>4.322819</td>\n",
       "      <td>4.289884</td>\n",
       "      <td>4.293690</td>\n",
       "      <td>4.270746</td>\n",
       "      <td>4.262502</td>\n",
       "      <td>4.300284</td>\n",
       "      <td>4.384716</td>\n",
       "      <td>4.404489</td>\n",
       "      <td>4.434284</td>\n",
       "      <td>...</td>\n",
       "      <td>3.325236</td>\n",
       "      <td>3.363567</td>\n",
       "      <td>3.344962</td>\n",
       "      <td>3.405641</td>\n",
       "      <td>3.411700</td>\n",
       "      <td>3.361704</td>\n",
       "      <td>3.324028</td>\n",
       "      <td>3.352611</td>\n",
       "      <td>3.297341</td>\n",
       "      <td>3.280543</td>\n",
       "    </tr>\n",
       "    <tr>\n",
       "      <th>2033-06-12</th>\n",
       "      <td>4.607711</td>\n",
       "      <td>4.649981</td>\n",
       "      <td>4.621802</td>\n",
       "      <td>4.617402</td>\n",
       "      <td>4.592835</td>\n",
       "      <td>4.589139</td>\n",
       "      <td>4.615734</td>\n",
       "      <td>4.709488</td>\n",
       "      <td>4.737378</td>\n",
       "      <td>4.765572</td>\n",
       "      <td>...</td>\n",
       "      <td>3.602556</td>\n",
       "      <td>3.638497</td>\n",
       "      <td>3.621265</td>\n",
       "      <td>3.664560</td>\n",
       "      <td>3.673296</td>\n",
       "      <td>3.614426</td>\n",
       "      <td>3.566660</td>\n",
       "      <td>3.598275</td>\n",
       "      <td>3.544682</td>\n",
       "      <td>3.526865</td>\n",
       "    </tr>\n",
       "    <tr>\n",
       "      <th>2043-06-12</th>\n",
       "      <td>4.937713</td>\n",
       "      <td>4.977667</td>\n",
       "      <td>4.954259</td>\n",
       "      <td>4.941627</td>\n",
       "      <td>4.915433</td>\n",
       "      <td>4.916299</td>\n",
       "      <td>4.931672</td>\n",
       "      <td>5.034777</td>\n",
       "      <td>5.070810</td>\n",
       "      <td>5.097396</td>\n",
       "      <td>...</td>\n",
       "      <td>3.880254</td>\n",
       "      <td>3.913800</td>\n",
       "      <td>3.897944</td>\n",
       "      <td>3.923809</td>\n",
       "      <td>3.935228</td>\n",
       "      <td>3.867461</td>\n",
       "      <td>3.809583</td>\n",
       "      <td>3.844236</td>\n",
       "      <td>3.792323</td>\n",
       "      <td>3.773486</td>\n",
       "    </tr>\n",
       "  </tbody>\n",
       "</table>\n",
       "<p>5 rows × 784 columns</p>\n",
       "</div>"
      ],
      "text/plain": [
       "            2011-03-28  2011-03-29  2011-03-30  2011-03-31  2011-04-01  \\\n",
       "2022-06-12    3.443817    3.494568    3.449966    3.478114    3.457128   \n",
       "2023-06-12    3.620892    3.670063    3.627662    3.647803    3.628087   \n",
       "2028-06-12    4.278242    4.322819    4.289884    4.293690    4.270746   \n",
       "2033-06-12    4.607711    4.649981    4.621802    4.617402    4.592835   \n",
       "2043-06-12    4.937713    4.977667    4.954259    4.941627    4.915433   \n",
       "\n",
       "            2011-04-04  2011-04-05  2011-04-06  2011-04-07  2011-04-08  ...  \\\n",
       "2022-06-12    3.434650    3.497334    3.560921    3.557812    3.588443  ...   \n",
       "2023-06-12    3.610791    3.670840    3.736715    3.740334    3.773317  ...   \n",
       "2028-06-12    4.262502    4.300284    4.384716    4.404489    4.434284  ...   \n",
       "2033-06-12    4.589139    4.615734    4.709488    4.737378    4.765572  ...   \n",
       "2043-06-12    4.916299    4.931672    5.034777    5.070810    5.097396  ...   \n",
       "\n",
       "            2014-03-14  2014-03-17  2014-03-18  2014-03-19  2014-03-20  \\\n",
       "2022-06-12    2.621606    2.664075    2.642630    2.748921    2.749545   \n",
       "2023-06-12    2.771728    2.814819    2.793481    2.888790    2.889516   \n",
       "2028-06-12    3.325236    3.363567    3.344962    3.405641    3.411700   \n",
       "2033-06-12    3.602556    3.638497    3.621265    3.664560    3.673296   \n",
       "2043-06-12    3.880254    3.913800    3.897944    3.923809    3.935228   \n",
       "\n",
       "            2014-03-21  2014-03-24  2014-03-25  2014-03-26  2014-03-27  \n",
       "2022-06-12    2.723628    2.712922    2.732028    2.674293    2.664159  \n",
       "2023-06-12    2.857203    2.839629    2.862171    2.803561    2.788794  \n",
       "2028-06-12    3.361704    3.324028    3.352611    3.297341    3.280543  \n",
       "2033-06-12    3.614426    3.566660    3.598275    3.544682    3.526865  \n",
       "2043-06-12    3.867461    3.809583    3.844236    3.792323    3.773486  \n",
       "\n",
       "[5 rows x 784 columns]"
      ]
     },
     "execution_count": 13,
     "metadata": {},
     "output_type": "execute_result"
    }
   ],
   "source": [
    "oiss.tail()"
   ]
  },
  {
   "cell_type": "markdown",
   "metadata": {},
   "source": [
    "Next we replace the **year fraction index** by a **DatetimeIndex**."
   ]
  },
  {
   "cell_type": "code",
   "execution_count": 14,
   "metadata": {},
   "outputs": [
    {
     "data": {
      "text/plain": [
       "2013-06-13    0.053743\n",
       "2013-06-19    0.091270\n",
       "2013-06-26    0.111556\n",
       "2013-07-12    0.039207\n",
       "2013-09-12    0.048226\n",
       "2013-12-12    0.080860\n",
       "2014-06-12    0.141550\n",
       "2015-06-12    0.341575\n",
       "2016-06-12    0.578743\n",
       "2017-06-12    0.942032\n",
       "2018-06-12    1.167832\n",
       "2020-06-12    1.675424\n",
       "2022-06-12    2.142639\n",
       "2023-06-12    2.310202\n",
       "2028-06-12    2.978568\n",
       "2033-06-12    3.313579\n",
       "2043-06-12    3.649143\n",
       "Name: 2013-06-12, dtype: float64"
      ]
     },
     "execution_count": 14,
     "metadata": {},
     "output_type": "execute_result"
    }
   ],
   "source": [
    "oiss[startdate]"
   ]
  },
  {
   "cell_type": "markdown",
   "metadata": {},
   "source": [
    "Let us have a look at the **most current data**, i.e. the term structure, of the data set."
   ]
  },
  {
   "cell_type": "code",
   "execution_count": 15,
   "metadata": {},
   "outputs": [
    {
     "data": {
      "text/plain": [
       "<matplotlib.axes._subplots.AxesSubplot at 0x13b7f978>"
      ]
     },
     "execution_count": 15,
     "metadata": {},
     "output_type": "execute_result"
    },
    {
     "data": {
      "image/png": "[encoded data removed]",
      "text/plain": [
       "<Figure size 720x432 with 1 Axes>"
      ]
     },
     "metadata": {
      "needs_background": "light"
     },
     "output_type": "display_data"
    }
   ],
   "source": [
    "oiss[startdate].plot(figsize=(10, 6))"
   ]
  },
  {
   "cell_type": "markdown",
   "metadata": {},
   "source": [
    "This data is used to instantiate a `deterministic_short_rate` **model for risk-neutral discounting** purposes."
   ]
  },
  {
   "cell_type": "code",
   "execution_count": 16,
   "metadata": {},
   "outputs": [],
   "source": [
    "# generate deterministic short rate model based on UK OIS curve\n",
    "ois = dx.deterministic_short_rate('ois', list(zip(oiss.index, oiss[startdate].values / 100)))"
   ]
  },
  {
   "cell_type": "code",
   "execution_count": 17,
   "metadata": {},
   "outputs": [
    {
     "data": {
      "text/plain": [
       "([0.9965401658643362, 0.9967529049547326, 0.9977479849065692, 1.0],\n",
       " array([datetime.datetime(2015, 1, 31, 0, 0),\n",
       "        datetime.datetime(2015, 7, 31, 0, 0),\n",
       "        datetime.datetime(2016, 1, 31, 0, 0),\n",
       "        datetime.datetime(2016, 7, 31, 0, 0)], dtype=object))"
      ]
     },
     "execution_count": 17,
     "metadata": {},
     "output_type": "execute_result"
    }
   ],
   "source": [
    "# example dates and corresponding discount factors\n",
    "dr = pd.date_range('2015-1', periods=4, freq='6m').to_pydatetime()\n",
    "ois.get_discount_factors(dr)[::-1]"
   ]
  },
  {
   "cell_type": "markdown",
   "metadata": {},
   "source": [
    "## Libor Market Data"
   ]
  },
  {
   "cell_type": "markdown",
   "metadata": {},
   "source": [
    "We want to model a **3 month Libor-based interest rate swap**. To this end, we need Libor term structure data, i.e. forward rates in this case (source: http://www.bankofengland.co.uk), to calibrate the  valuation to. The data importing and adjustments are the same as before."
   ]
  },
  {
   "cell_type": "code",
   "execution_count": 18,
   "metadata": {},
   "outputs": [
    {
     "data": {
      "text/html": [
       "<div>\n",
       "<style scoped>\n",
       "    .dataframe tbody tr th:only-of-type {\n",
       "        vertical-align: middle;\n",
       "    }\n",
       "\n",
       "    .dataframe tbody tr th {\n",
       "        vertical-align: top;\n",
       "    }\n",
       "\n",
       "    .dataframe thead th {\n",
       "        text-align: right;\n",
       "    }\n",
       "</style>\n",
       "<table border=\"1\" class=\"dataframe\">\n",
       "  <thead>\n",
       "    <tr style=\"text-align: right;\">\n",
       "      <th>Date</th>\n",
       "      <th>20110328</th>\n",
       "      <th>20110329</th>\n",
       "      <th>20110330</th>\n",
       "      <th>20110331</th>\n",
       "      <th>20110401</th>\n",
       "      <th>20110404</th>\n",
       "      <th>20110405</th>\n",
       "      <th>20110406</th>\n",
       "      <th>20110407</th>\n",
       "      <th>20110408</th>\n",
       "      <th>...</th>\n",
       "      <th>20140314</th>\n",
       "      <th>20140317</th>\n",
       "      <th>20140318</th>\n",
       "      <th>20140319</th>\n",
       "      <th>20140320</th>\n",
       "      <th>20140321</th>\n",
       "      <th>20140324</th>\n",
       "      <th>20140325</th>\n",
       "      <th>20140326</th>\n",
       "      <th>20140327</th>\n",
       "    </tr>\n",
       "  </thead>\n",
       "  <tbody>\n",
       "    <tr>\n",
       "      <th>1D</th>\n",
       "      <td>0.194761</td>\n",
       "      <td>0.191716</td>\n",
       "      <td>0.188164</td>\n",
       "      <td>0.187150</td>\n",
       "      <td>0.186642</td>\n",
       "      <td>0.180756</td>\n",
       "      <td>0.172131</td>\n",
       "      <td>0.165129</td>\n",
       "      <td>0.159244</td>\n",
       "      <td>0.156961</td>\n",
       "      <td>...</td>\n",
       "      <td>0.089039</td>\n",
       "      <td>0.089851</td>\n",
       "      <td>0.089749</td>\n",
       "      <td>0.090256</td>\n",
       "      <td>0.089749</td>\n",
       "      <td>0.091778</td>\n",
       "      <td>0.091575</td>\n",
       "      <td>0.091676</td>\n",
       "      <td>0.091575</td>\n",
       "      <td>0.092082</td>\n",
       "    </tr>\n",
       "    <tr>\n",
       "      <th>7D</th>\n",
       "      <td>0.226075</td>\n",
       "      <td>0.224770</td>\n",
       "      <td>0.221914</td>\n",
       "      <td>0.221334</td>\n",
       "      <td>0.220827</td>\n",
       "      <td>0.215810</td>\n",
       "      <td>0.209140</td>\n",
       "      <td>0.204660</td>\n",
       "      <td>0.199426</td>\n",
       "      <td>0.195881</td>\n",
       "      <td>...</td>\n",
       "      <td>0.118123</td>\n",
       "      <td>0.116934</td>\n",
       "      <td>0.118268</td>\n",
       "      <td>0.119818</td>\n",
       "      <td>0.117137</td>\n",
       "      <td>0.117210</td>\n",
       "      <td>0.116963</td>\n",
       "      <td>0.116326</td>\n",
       "      <td>0.119789</td>\n",
       "      <td>0.119862</td>\n",
       "    </tr>\n",
       "    <tr>\n",
       "      <th>14D</th>\n",
       "      <td>0.234300</td>\n",
       "      <td>0.233865</td>\n",
       "      <td>0.231248</td>\n",
       "      <td>0.230886</td>\n",
       "      <td>0.230378</td>\n",
       "      <td>0.225615</td>\n",
       "      <td>0.218927</td>\n",
       "      <td>0.215020</td>\n",
       "      <td>0.211507</td>\n",
       "      <td>0.207821</td>\n",
       "      <td>...</td>\n",
       "      <td>0.137016</td>\n",
       "      <td>0.136246</td>\n",
       "      <td>0.137231</td>\n",
       "      <td>0.138448</td>\n",
       "      <td>0.135562</td>\n",
       "      <td>0.135471</td>\n",
       "      <td>0.135338</td>\n",
       "      <td>0.134756</td>\n",
       "      <td>0.136294</td>\n",
       "      <td>0.136096</td>\n",
       "    </tr>\n",
       "    <tr>\n",
       "      <th>1M</th>\n",
       "      <td>0.248115</td>\n",
       "      <td>0.246904</td>\n",
       "      <td>0.244467</td>\n",
       "      <td>0.243685</td>\n",
       "      <td>0.243178</td>\n",
       "      <td>0.239841</td>\n",
       "      <td>0.235050</td>\n",
       "      <td>0.232698</td>\n",
       "      <td>0.230285</td>\n",
       "      <td>0.225529</td>\n",
       "      <td>...</td>\n",
       "      <td>0.154605</td>\n",
       "      <td>0.154321</td>\n",
       "      <td>0.154909</td>\n",
       "      <td>0.155758</td>\n",
       "      <td>0.152749</td>\n",
       "      <td>0.152569</td>\n",
       "      <td>0.152550</td>\n",
       "      <td>0.152049</td>\n",
       "      <td>0.151556</td>\n",
       "      <td>0.151107</td>\n",
       "    </tr>\n",
       "  </tbody>\n",
       "</table>\n",
       "<p>4 rows × 784 columns</p>\n",
       "</div>"
      ],
      "text/plain": [
       "Date  20110328  20110329  20110330  20110331  20110401  20110404  20110405  \\\n",
       "1D    0.194761  0.191716  0.188164  0.187150  0.186642  0.180756  0.172131   \n",
       "7D    0.226075  0.224770  0.221914  0.221334  0.220827  0.215810  0.209140   \n",
       "14D   0.234300  0.233865  0.231248  0.230886  0.230378  0.225615  0.218927   \n",
       "1M    0.248115  0.246904  0.244467  0.243685  0.243178  0.239841  0.235050   \n",
       "\n",
       "Date  20110406  20110407  20110408  ...  20140314  20140317  20140318  \\\n",
       "1D    0.165129  0.159244  0.156961  ...  0.089039  0.089851  0.089749   \n",
       "7D    0.204660  0.199426  0.195881  ...  0.118123  0.116934  0.118268   \n",
       "14D   0.215020  0.211507  0.207821  ...  0.137016  0.136246  0.137231   \n",
       "1M    0.232698  0.230285  0.225529  ...  0.154605  0.154321  0.154909   \n",
       "\n",
       "Date  20140319  20140320  20140321  20140324  20140325  20140326  20140327  \n",
       "1D    0.090256  0.089749  0.091778  0.091575  0.091676  0.091575  0.092082  \n",
       "7D    0.119818  0.117137  0.117210  0.116963  0.116326  0.119789  0.119862  \n",
       "14D   0.138448  0.135562  0.135471  0.135338  0.134756  0.136294  0.136096  \n",
       "1M    0.155758  0.152749  0.152569  0.152550  0.152049  0.151556  0.151107  \n",
       "\n",
       "[4 rows x 784 columns]"
      ]
     },
     "execution_count": 18,
     "metadata": {},
     "output_type": "execute_result"
    }
   ],
   "source": [
    "# UK Libor foward rates\n",
    "libf = pd.read_excel('Data.xls', 'Sheet2',index_col=0)\n",
    "# use years as index\n",
    "libf = libf.T\n",
    "# del oiss['years']\n",
    "libf.head(4)"
   ]
  },
  {
   "cell_type": "code",
   "execution_count": 19,
   "metadata": {},
   "outputs": [],
   "source": [
    "# only date information for columns, no time\n",
    "# only date information for columns, no time\n",
    "libf.columns = [dt.date(year=int(str(d)[0:4]),month=int(str(d)[4:6]),day=int(str(d)[6:8])) for d in libf.columns]\n",
    "\n",
    "startdate = dt.date(year=2013,month=6,day=12)\n",
    "rows_front = [startdate + dt.timedelta(days=int(d[:-1])) for d in libf.index if d[-1]=='D']\n",
    "rows_end = [startdate + dt.timedelta(days=int(int(d[:-1])*30.42)) for d in libf.index if d[-1]=='M']\n",
    "rows_end = [d.replace(day=12) for d in rows_end]\n",
    "rows_front.extend(rows_end)\n",
    "libf.index = rows_front"
   ]
  },
  {
   "cell_type": "code",
   "execution_count": 20,
   "metadata": {},
   "outputs": [
    {
     "data": {
      "text/html": [
       "<div>\n",
       "<style scoped>\n",
       "    .dataframe tbody tr th:only-of-type {\n",
       "        vertical-align: middle;\n",
       "    }\n",
       "\n",
       "    .dataframe tbody tr th {\n",
       "        vertical-align: top;\n",
       "    }\n",
       "\n",
       "    .dataframe thead th {\n",
       "        text-align: right;\n",
       "    }\n",
       "</style>\n",
       "<table border=\"1\" class=\"dataframe\">\n",
       "  <thead>\n",
       "    <tr style=\"text-align: right;\">\n",
       "      <th></th>\n",
       "      <th>2011-03-28</th>\n",
       "      <th>2011-03-29</th>\n",
       "      <th>2011-03-30</th>\n",
       "      <th>2011-03-31</th>\n",
       "      <th>2011-04-01</th>\n",
       "      <th>2011-04-04</th>\n",
       "      <th>2011-04-05</th>\n",
       "      <th>2011-04-06</th>\n",
       "      <th>2011-04-07</th>\n",
       "      <th>2011-04-08</th>\n",
       "      <th>...</th>\n",
       "      <th>2014-03-14</th>\n",
       "      <th>2014-03-17</th>\n",
       "      <th>2014-03-18</th>\n",
       "      <th>2014-03-19</th>\n",
       "      <th>2014-03-20</th>\n",
       "      <th>2014-03-21</th>\n",
       "      <th>2014-03-24</th>\n",
       "      <th>2014-03-25</th>\n",
       "      <th>2014-03-26</th>\n",
       "      <th>2014-03-27</th>\n",
       "    </tr>\n",
       "  </thead>\n",
       "  <tbody>\n",
       "    <tr>\n",
       "      <th>2025-06-12</th>\n",
       "      <td>3.946211</td>\n",
       "      <td>3.991168</td>\n",
       "      <td>3.940979</td>\n",
       "      <td>3.957771</td>\n",
       "      <td>3.936970</td>\n",
       "      <td>3.920749</td>\n",
       "      <td>3.986839</td>\n",
       "      <td>4.047366</td>\n",
       "      <td>4.049675</td>\n",
       "      <td>4.093499</td>\n",
       "      <td>...</td>\n",
       "      <td>3.154384</td>\n",
       "      <td>3.195119</td>\n",
       "      <td>3.177213</td>\n",
       "      <td>3.258207</td>\n",
       "      <td>3.270487</td>\n",
       "      <td>3.216301</td>\n",
       "      <td>3.201786</td>\n",
       "      <td>3.220832</td>\n",
       "      <td>3.166032</td>\n",
       "      <td>3.148253</td>\n",
       "    </tr>\n",
       "    <tr>\n",
       "      <th>2028-06-12</th>\n",
       "      <td>4.212965</td>\n",
       "      <td>4.257854</td>\n",
       "      <td>4.210624</td>\n",
       "      <td>4.220559</td>\n",
       "      <td>4.198030</td>\n",
       "      <td>4.186069</td>\n",
       "      <td>4.241924</td>\n",
       "      <td>4.308403</td>\n",
       "      <td>4.320624</td>\n",
       "      <td>4.361087</td>\n",
       "      <td>...</td>\n",
       "      <td>3.422931</td>\n",
       "      <td>3.466617</td>\n",
       "      <td>3.453785</td>\n",
       "      <td>3.519178</td>\n",
       "      <td>3.524917</td>\n",
       "      <td>3.462920</td>\n",
       "      <td>3.438177</td>\n",
       "      <td>3.462460</td>\n",
       "      <td>3.404623</td>\n",
       "      <td>3.387058</td>\n",
       "    </tr>\n",
       "    <tr>\n",
       "      <th>2033-06-12</th>\n",
       "      <td>4.400315</td>\n",
       "      <td>4.447272</td>\n",
       "      <td>4.404166</td>\n",
       "      <td>4.403129</td>\n",
       "      <td>4.384845</td>\n",
       "      <td>4.376607</td>\n",
       "      <td>4.422875</td>\n",
       "      <td>4.495401</td>\n",
       "      <td>4.511886</td>\n",
       "      <td>4.548469</td>\n",
       "      <td>...</td>\n",
       "      <td>3.657118</td>\n",
       "      <td>3.690987</td>\n",
       "      <td>3.673582</td>\n",
       "      <td>3.731050</td>\n",
       "      <td>3.738374</td>\n",
       "      <td>3.665497</td>\n",
       "      <td>3.628645</td>\n",
       "      <td>3.659810</td>\n",
       "      <td>3.607342</td>\n",
       "      <td>3.588732</td>\n",
       "    </tr>\n",
       "    <tr>\n",
       "      <th>2038-06-12</th>\n",
       "      <td>4.472191</td>\n",
       "      <td>4.516122</td>\n",
       "      <td>4.479049</td>\n",
       "      <td>4.471928</td>\n",
       "      <td>4.455399</td>\n",
       "      <td>4.449576</td>\n",
       "      <td>4.488417</td>\n",
       "      <td>4.564735</td>\n",
       "      <td>4.584465</td>\n",
       "      <td>4.616751</td>\n",
       "      <td>...</td>\n",
       "      <td>3.735279</td>\n",
       "      <td>3.769451</td>\n",
       "      <td>3.756961</td>\n",
       "      <td>3.799469</td>\n",
       "      <td>3.814702</td>\n",
       "      <td>3.732244</td>\n",
       "      <td>3.687853</td>\n",
       "      <td>3.721334</td>\n",
       "      <td>3.673535</td>\n",
       "      <td>3.654392</td>\n",
       "    </tr>\n",
       "    <tr>\n",
       "      <th>2043-06-12</th>\n",
       "      <td>4.520046</td>\n",
       "      <td>4.561956</td>\n",
       "      <td>4.528907</td>\n",
       "      <td>4.517731</td>\n",
       "      <td>4.502372</td>\n",
       "      <td>4.498159</td>\n",
       "      <td>4.532049</td>\n",
       "      <td>4.610894</td>\n",
       "      <td>4.632788</td>\n",
       "      <td>4.662209</td>\n",
       "      <td>...</td>\n",
       "      <td>3.787365</td>\n",
       "      <td>3.821745</td>\n",
       "      <td>3.812541</td>\n",
       "      <td>3.845057</td>\n",
       "      <td>3.865573</td>\n",
       "      <td>3.776719</td>\n",
       "      <td>3.727298</td>\n",
       "      <td>3.762322</td>\n",
       "      <td>3.717641</td>\n",
       "      <td>3.698142</td>\n",
       "    </tr>\n",
       "  </tbody>\n",
       "</table>\n",
       "<p>5 rows × 784 columns</p>\n",
       "</div>"
      ],
      "text/plain": [
       "            2011-03-28  2011-03-29  2011-03-30  2011-03-31  2011-04-01  \\\n",
       "2025-06-12    3.946211    3.991168    3.940979    3.957771    3.936970   \n",
       "2028-06-12    4.212965    4.257854    4.210624    4.220559    4.198030   \n",
       "2033-06-12    4.400315    4.447272    4.404166    4.403129    4.384845   \n",
       "2038-06-12    4.472191    4.516122    4.479049    4.471928    4.455399   \n",
       "2043-06-12    4.520046    4.561956    4.528907    4.517731    4.502372   \n",
       "\n",
       "            2011-04-04  2011-04-05  2011-04-06  2011-04-07  2011-04-08  ...  \\\n",
       "2025-06-12    3.920749    3.986839    4.047366    4.049675    4.093499  ...   \n",
       "2028-06-12    4.186069    4.241924    4.308403    4.320624    4.361087  ...   \n",
       "2033-06-12    4.376607    4.422875    4.495401    4.511886    4.548469  ...   \n",
       "2038-06-12    4.449576    4.488417    4.564735    4.584465    4.616751  ...   \n",
       "2043-06-12    4.498159    4.532049    4.610894    4.632788    4.662209  ...   \n",
       "\n",
       "            2014-03-14  2014-03-17  2014-03-18  2014-03-19  2014-03-20  \\\n",
       "2025-06-12    3.154384    3.195119    3.177213    3.258207    3.270487   \n",
       "2028-06-12    3.422931    3.466617    3.453785    3.519178    3.524917   \n",
       "2033-06-12    3.657118    3.690987    3.673582    3.731050    3.738374   \n",
       "2038-06-12    3.735279    3.769451    3.756961    3.799469    3.814702   \n",
       "2043-06-12    3.787365    3.821745    3.812541    3.845057    3.865573   \n",
       "\n",
       "            2014-03-21  2014-03-24  2014-03-25  2014-03-26  2014-03-27  \n",
       "2025-06-12    3.216301    3.201786    3.220832    3.166032    3.148253  \n",
       "2028-06-12    3.462920    3.438177    3.462460    3.404623    3.387058  \n",
       "2033-06-12    3.665497    3.628645    3.659810    3.607342    3.588732  \n",
       "2038-06-12    3.732244    3.687853    3.721334    3.673535    3.654392  \n",
       "2043-06-12    3.776719    3.727298    3.762322    3.717641    3.698142  \n",
       "\n",
       "[5 rows x 784 columns]"
      ]
     },
     "execution_count": 20,
     "metadata": {},
     "output_type": "execute_result"
    }
   ],
   "source": [
    "libf.tail()"
   ]
  },
  {
   "cell_type": "code",
   "execution_count": null,
   "metadata": {},
   "outputs": [],
   "source": []
  },
  {
   "cell_type": "markdown",
   "metadata": {},
   "source": [
    "And the short end of the **Libor term sturcture** visualized."
   ]
  },
  {
   "cell_type": "code",
   "execution_count": 21,
   "metadata": {},
   "outputs": [
    {
     "data": {
      "text/plain": [
       "<matplotlib.axes._subplots.AxesSubplot at 0x13a74b38>"
      ]
     },
     "execution_count": 21,
     "metadata": {},
     "output_type": "execute_result"
    },
    {
     "data": {
      "image/png": "[encoded data removed]",
      "text/plain": [
       "<Figure size 720x432 with 1 Axes>"
      ]
     },
     "metadata": {
      "needs_background": "light"
     },
     "output_type": "display_data"
    }
   ],
   "source": [
    "libf[startdate].plot(figsize=(10, 6))"
   ]
  },
  {
   "cell_type": "markdown",
   "metadata": {},
   "source": [
    "## Model Calibration"
   ]
  },
  {
   "cell_type": "markdown",
   "metadata": {},
   "source": [
    "Next, equipped with the Libor data, we calibrate the **square-root diffusion short rate model**. A bit of data preparation:"
   ]
  },
  {
   "cell_type": "code",
   "execution_count": 22,
   "metadata": {},
   "outputs": [],
   "source": [
    "t = libf.index\n",
    "f = libf[startdate].values / 100\n",
    "initial_value = 0.005"
   ]
  },
  {
   "cell_type": "markdown",
   "metadata": {},
   "source": [
    "A **mean-squared error (MSE)** function to be minimized during calibration."
   ]
  },
  {
   "cell_type": "code",
   "execution_count": 23,
   "metadata": {},
   "outputs": [],
   "source": [
    "def srd_forward_error(p0):\n",
    "    global initial_value, f, t\n",
    "    if p0[0] < 0 or p0[1] < 0 or p0[2] < 0:\n",
    "        return 100\n",
    "    f_model = dx.srd_forwards(initial_value, p0, t)\n",
    "    MSE = np.sum((f - f_model) ** 2) / len(f)\n",
    "    return MSE"
   ]
  },
  {
   "cell_type": "markdown",
   "metadata": {},
   "source": [
    "And the **calibration** itself."
   ]
  },
  {
   "cell_type": "code",
   "execution_count": 24,
   "metadata": {},
   "outputs": [],
   "source": [
    "from scipy.optimize import fmin"
   ]
  },
  {
   "cell_type": "code",
   "execution_count": 25,
   "metadata": {},
   "outputs": [
    {
     "name": "stdout",
     "output_type": "stream",
     "text": [
      "Optimization terminated successfully.\n",
      "         Current function value: 0.000009\n",
      "         Iterations: 354\n",
      "         Function evaluations: 630\n"
     ]
    }
   ],
   "source": [
    "opt = fmin(srd_forward_error, (4.0, 2.0, 0.2),\n",
    "           maxiter=1000, maxfun=1000)"
   ]
  },
  {
   "cell_type": "markdown",
   "metadata": {},
   "source": [
    "The **optimal parameters** (kappa, theta, sigma) are:"
   ]
  },
  {
   "cell_type": "code",
   "execution_count": 26,
   "metadata": {},
   "outputs": [
    {
     "data": {
      "text/plain": [
       "array([4.20596812e-04, 9.62048126e+00, 7.18982609e-02])"
      ]
     },
     "execution_count": 26,
     "metadata": {},
     "output_type": "execute_result"
    }
   ],
   "source": [
    "opt"
   ]
  },
  {
   "cell_type": "markdown",
   "metadata": {},
   "source": [
    "The **model fit** is not too bad in this case."
   ]
  },
  {
   "cell_type": "code",
   "execution_count": 27,
   "metadata": {},
   "outputs": [
    {
     "data": {
      "text/plain": [
       "<matplotlib.legend.Legend at 0x10289668>"
      ]
     },
     "execution_count": 27,
     "metadata": {},
     "output_type": "execute_result"
    },
    {
     "data": {
      "image/png": "[encoded data removed]",
      "text/plain": [
       "<Figure size 720x432 with 1 Axes>"
      ]
     },
     "metadata": {
      "needs_background": "light"
     },
     "output_type": "display_data"
    }
   ],
   "source": [
    "plt.figure(figsize=(10, 6))\n",
    "plt.plot(t, f, label='market forward rates')\n",
    "plt.plot(t, dx.srd_forwards(initial_value, opt, t), 'r.', label='model forward rates')\n",
    "plt.gcf().autofmt_xdate(); plt.legend(loc=0)"
   ]
  },
  {
   "cell_type": "markdown",
   "metadata": {},
   "source": [
    "## Floating Rate Modeling"
   ]
  },
  {
   "cell_type": "markdown",
   "metadata": {},
   "source": [
    "The optimal parameters from the calibration are used to model the **floating rate (3m Libor rate)**."
   ]
  },
  {
   "cell_type": "code",
   "execution_count": 94,
   "metadata": {},
   "outputs": [],
   "source": [
    "grid = [startdate.replace(year = int(startdate.year+(i/2)),month = 6) for i in range(10)]\n",
    "grid[0] = dt.date(year=2013,month=12,day=12)\n",
    "grid[1] = grid[0]\n",
    "fix_rate = 2 * np.exp(oiss[startdate.replace(month=12)][grid[-1]]*6) / np.sum([np.exp(oiss[startdate.replace(month=12)][grid[i]]*(i+1)/2) for i in range(10)])\n",
    "fix_rate/=100"
   ]
  },
  {
   "cell_type": "code",
   "execution_count": 95,
   "metadata": {},
   "outputs": [],
   "source": [
    "# market environment\n",
    "me_srd = dx.market_environment('me_srd', dt.datetime(2013, 6, 12))"
   ]
  },
  {
   "cell_type": "code",
   "execution_count": 103,
   "metadata": {},
   "outputs": [],
   "source": [
    "# square-root diffusion\n",
    "me_srd.add_constant('initial_value', fix_rate)\n",
    "me_srd.add_constant('kappa', opt[0]) \n",
    "me_srd.add_constant('theta', opt[1])\n",
    "me_srd.add_constant('volatility', opt[2])\n",
    "me_srd.add_curve('discount_curve', ois)\n",
    "  # OIS discounting object\n",
    "me_srd.add_constant('currency', 'USD')\n",
    "me_srd.add_constant('paths', 10000)\n",
    "me_srd.add_constant('frequency', 'w')\n",
    "me_srd.add_constant('starting_date', me_srd.pricing_date)\n",
    "me_srd.add_constant('final_date', dt.datetime(2018, 6, 12))"
   ]
  },
  {
   "cell_type": "code",
   "execution_count": 104,
   "metadata": {},
   "outputs": [],
   "source": [
    "srd = dx.square_root_diffusion('srd', me_srd)"
   ]
  },
  {
   "cell_type": "markdown",
   "metadata": {},
   "source": [
    "Let us have a look at some **simulated rate paths**."
   ]
  },
  {
   "cell_type": "code",
   "execution_count": 105,
   "metadata": {},
   "outputs": [],
   "source": [
    "paths = srd.get_instrument_values()"
   ]
  },
  {
   "cell_type": "code",
   "execution_count": 106,
   "metadata": {},
   "outputs": [
    {
     "data": {
      "text/plain": [
       "[<matplotlib.lines.Line2D at 0x16d8d0b8>,\n",
       " <matplotlib.lines.Line2D at 0x16e36588>,\n",
       " <matplotlib.lines.Line2D at 0x16e367b8>,\n",
       " <matplotlib.lines.Line2D at 0x16e36940>,\n",
       " <matplotlib.lines.Line2D at 0x16e36ac8>,\n",
       " <matplotlib.lines.Line2D at 0x16e36c50>]"
      ]
     },
     "execution_count": 106,
     "metadata": {},
     "output_type": "execute_result"
    },
    {
     "data": {
      "image/png": "[encoded data removed]",
      "text/plain": [
       "<Figure size 720x432 with 1 Axes>"
      ]
     },
     "metadata": {
      "needs_background": "light"
     },
     "output_type": "display_data"
    }
   ],
   "source": [
    "plt.figure(figsize=(10, 6))\n",
    "plt.plot(srd.time_grid, paths[:, :6])"
   ]
  },
  {
   "cell_type": "markdown",
   "metadata": {},
   "source": [
    "## Interest Rate Swap"
   ]
  },
  {
   "cell_type": "markdown",
   "metadata": {},
   "source": [
    "Finally, we can model the **interest rate swap** itself."
   ]
  },
  {
   "cell_type": "markdown",
   "metadata": {},
   "source": [
    "### Modeling"
   ]
  },
  {
   "cell_type": "markdown",
   "metadata": {},
   "source": [
    "First, the market environment with all the **parameters** needed."
   ]
  },
  {
   "cell_type": "code",
   "execution_count": null,
   "metadata": {},
   "outputs": [],
   "source": []
  },
  {
   "cell_type": "markdown",
   "metadata": {},
   "source": [
    "The instantiation of the **valuation object**."
   ]
  },
  {
   "cell_type": "markdown",
   "metadata": {},
   "source": [
    "# market environment for the IRS\n",
    "me_irs = dx.market_environment('irs', me_srd.pricing_date)\n",
    "me_irs.add_constant('fixed_rate', 0.0136)\n",
    "me_irs.add_constant('trade_date', me_srd.pricing_date)\n",
    "me_irs.add_constant('effective_date', me_srd.pricing_date)\n",
    "me_irs.add_constant('payment_date', dt.datetime(2014, 6, 12))\n",
    "me_irs.add_constant('payment_day', 12)\n",
    "me_irs.add_constant('termination_date', me_srd.get_constant('final_date'))\n",
    "me_irs.add_constant('currency', 'USD')\n",
    "me_irs.add_constant('notional', 100000)\n",
    "me_irs.add_constant('tenor', '6m')\n",
    "me_irs.add_constant('counting', 'ACT/360')\n",
    "# discount curve from mar_env of floating rate"
   ]
  },
  {
   "cell_type": "code",
   "execution_count": 109,
   "metadata": {},
   "outputs": [],
   "source": [
    "me_irs = dx.market_environment('irs', me_srd.pricing_date)\n",
    "me_irs.add_constant('fixed_rate', fix_rate)\n",
    "me_irs.add_constant('trade_date', me_srd.pricing_date)\n",
    "me_irs.add_constant('effective_date', me_srd.pricing_date)\n",
    "me_irs.add_constant('payment_date', dt.datetime(2013, 6, 12))\n",
    "me_irs.add_constant('payment_day', 12)\n",
    "me_irs.add_constant('termination_date', me_srd.get_constant('final_date'))\n",
    "me_irs.add_constant('currency', 'USD')\n",
    "me_irs.add_constant('notional', 100000)\n",
    "me_irs.add_constant('tenor', '6m')\n",
    "me_irs.add_constant('counting', 'ACT/360')"
   ]
  },
  {
   "cell_type": "code",
   "execution_count": 110,
   "metadata": {},
   "outputs": [],
   "source": [
    "irs = dx.interest_rate_swap('irs', srd, me_irs)"
   ]
  },
  {
   "cell_type": "markdown",
   "metadata": {},
   "source": [
    "### Valuation"
   ]
  },
  {
   "cell_type": "markdown",
   "metadata": {},
   "source": [
    "The **present value** of the interest rate swap given the assumption, in particular, of the fixed rate."
   ]
  },
  {
   "cell_type": "code",
   "execution_count": 111,
   "metadata": {},
   "outputs": [
    {
     "name": "stdout",
     "output_type": "stream",
     "text": [
      "Wall time: 2.23 s\n"
     ]
    },
    {
     "data": {
      "text/plain": [
       "8679.274670969558"
      ]
     },
     "execution_count": 111,
     "metadata": {},
     "output_type": "execute_result"
    }
   ],
   "source": [
    "%time irs.present_value(fixed_seed=True)"
   ]
  },
  {
   "cell_type": "code",
   "execution_count": 112,
   "metadata": {},
   "outputs": [
    {
     "name": "stdout",
     "output_type": "stream",
     "text": [
      "Wall time: 2.3 s\n"
     ]
    },
    {
     "data": {
      "text/plain": [
       "8679.274670969558"
      ]
     },
     "execution_count": 112,
     "metadata": {},
     "output_type": "execute_result"
    }
   ],
   "source": [
    "me_irs.add_constant('payment_date', dt.datetime(2013, 6, 12))\n",
    "irs = dx.interest_rate_swap('irs', srd, me_irs)\n",
    "%time irs.present_value(fixed_seed=True)"
   ]
  },
  {
   "cell_type": "markdown",
   "metadata": {},
   "source": [
    "You can also generate a **full output of all present values** per simulation path."
   ]
  },
  {
   "cell_type": "code",
   "execution_count": 116,
   "metadata": {
    "scrolled": false
   },
   "outputs": [
    {
     "name": "stdout",
     "output_type": "stream",
     "text": [
      "0       5342.048421\n",
      "1       -254.744331\n",
      "2      -1386.350731\n",
      "3       3380.014442\n",
      "4       7773.629677\n",
      "5       3012.619309\n",
      "6      -3838.883546\n",
      "7      -2560.567491\n",
      "8        381.722785\n",
      "9       1940.214827\n",
      "10      -693.395261\n",
      "11      1958.416886\n",
      "12      2496.117860\n",
      "13       930.786261\n",
      "14     -2151.396645\n",
      "15       479.188575\n",
      "16      4310.330934\n",
      "17      -138.701409\n",
      "18      1184.144196\n",
      "19      1829.657142\n",
      "20      3967.675539\n",
      "21     -1726.582660\n",
      "22      3571.193235\n",
      "23     -1072.813805\n",
      "24      -488.387684\n",
      "25     -2584.554086\n",
      "26      -452.289141\n",
      "27      5246.570390\n",
      "28      9323.031240\n",
      "29      -719.085582\n",
      "           ...     \n",
      "9970   -3357.583124\n",
      "9971    7570.961171\n",
      "9972    3853.042400\n",
      "9973   -1368.194663\n",
      "9974    -261.282119\n",
      "9975     155.999350\n",
      "9976    6727.381031\n",
      "9977    2873.089148\n",
      "9978    5898.543007\n",
      "9979    2271.421432\n",
      "9980   -2173.873337\n",
      "9981   -1541.289231\n",
      "9982   -1968.403888\n",
      "9983   -2820.187542\n",
      "9984   -1012.615530\n",
      "9985    -144.455419\n",
      "9986    -675.048011\n",
      "9987   -1276.220545\n",
      "9988    1083.049526\n",
      "9989    2564.287215\n",
      "9990    4356.806718\n",
      "9991    6588.682216\n",
      "9992    1603.169887\n",
      "9993    4266.544708\n",
      "9994   -1210.537174\n",
      "9995    -723.967330\n",
      "9996    3998.259666\n",
      "9997    4884.788076\n",
      "9998   -1646.983762\n",
      "9999   -1052.202332\n",
      "Name: 2017-12-12 00:00:00, Length: 10000, dtype: float64\n"
     ]
    }
   ],
   "source": [
    "print(irs.present_value(full=True).iloc[-1, :])"
   ]
  },
  {
   "cell_type": "markdown",
   "metadata": {},
   "source": [
    "**Copyright, License & Disclaimer**\n",
    "\n",
    "© Dr. Yves J. Hilpisch | The Python Quants GmbH\n",
    "\n",
    "DX Analytics (the \"dx library\" or \"dx package\") is licensed under the GNU Affero General\n",
    "Public License version 3 or later (see http://www.gnu.org/licenses/).\n",
    "\n",
    "DX Analytics comes with no representations or warranties, to the extent\n",
    "permitted by applicable law.\n",
    "\n",
    "http://tpq.io | [dx@tpq.io](mailto:team@tpq.io) |\n",
    "http://twitter.com/dyjh\n",
    "\n",
    "<img src=\"http://hilpisch.com/tpq_logo.png\" alt=\"The Python Quants\" width=\"35%\" align=\"right\" border=\"0\"><br>\n",
    "\n",
    "**Quant Platform** | http://pqp.io\n",
    "\n",
    "**Python for Finance Training** | http://training.tpq.io\n",
    "\n",
    "**Certificate in Computational Finance** | http://compfinance.tpq.io\n",
    "\n",
    "**Derivatives Analytics with Python (Wiley Finance)** |\n",
    "http://dawp.tpq.io\n",
    "\n",
    "**Python for Finance (2nd ed., O'Reilly)** |\n",
    "http://py4fi.tpq.io"
   ]
  },
  {
   "cell_type": "code",
   "execution_count": null,
   "metadata": {},
   "outputs": [],
   "source": []
  },
  {
   "cell_type": "code",
   "execution_count": null,
   "metadata": {},
   "outputs": [],
   "source": []
  },
  {
   "cell_type": "code",
   "execution_count": null,
   "metadata": {},
   "outputs": [],
   "source": []
  },
  {
   "cell_type": "code",
   "execution_count": null,
   "metadata": {},
   "outputs": [],
   "source": []
  },
  {
   "cell_type": "code",
   "execution_count": null,
   "metadata": {},
   "outputs": [],
   "source": []
  },
  {
   "cell_type": "code",
   "execution_count": null,
   "metadata": {},
   "outputs": [],
   "source": []
  }
 ],
 "metadata": {
  "anaconda-cloud": {},
  "kernelspec": {
   "display_name": "Python 3",
   "language": "python",
   "name": "python3"
  },
  "language_info": {
   "codemirror_mode": {
    "name": "ipython",
    "version": 3
   },
   "file_extension": ".py",
   "mimetype": "text/x-python",
   "name": "python",
   "nbconvert_exporter": "python",
   "pygments_lexer": "ipython3",
   "version": "3.7.3"
  }
 },
 "nbformat": 4,
 "nbformat_minor": 1
}
